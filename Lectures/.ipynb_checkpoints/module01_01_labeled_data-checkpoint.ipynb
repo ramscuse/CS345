{
 "cells": [
  {
   "cell_type": "markdown",
   "metadata": {},
   "source": [
    "*This notebook is part of  course materials for CS 345: Machine Learning Foundations and Practice at Colorado State University.\n",
    "Original versions were created by Asa Ben-Hur with updates by Ross Beveridge.\n",
    "The content is availabe [on GitHub](https://github.com/asabenhur/CS345).*\n",
    "\n",
    "*The text is released under the [CC BY-SA license](https://creativecommons.org/licenses/by-sa/4.0/), and code is released under the [MIT license](https://opensource.org/licenses/MIT).*"
   ]
  },
  {
   "cell_type": "markdown",
   "metadata": {},
   "source": [
    "<a href=\"https://colab.research.google.com/github//asabenhur/CS345/blob/master/fall22/notebooks/module01_01_labeled_data.ipynb\">\n",
    "  <img align=\"left\" src=\"https://colab.research.google.com/assets/colab-badge.svg\" alt=\"Open In Colab\"/>\n",
    "</a>"
   ]
  },
  {
   "cell_type": "markdown",
   "metadata": {
    "id": "E7D3EaByTPY2"
   },
   "source": [
    "# Learning Patterns with Labeled Data\n",
    "\n",
    "A large part of machine learning is focused upon the task of learning patterns from examples and then using the learned patterns to distinguish between types - classes - of objects or data.  Here we introduce this idea using a classic example data set of flowers."
   ]
  },
  {
   "cell_type": "code",
   "execution_count": 17,
   "metadata": {
    "colab": {
     "base_uri": "https://localhost:8080/",
     "height": 35
    },
    "executionInfo": {
     "elapsed": 715,
     "status": "ok",
     "timestamp": 1611250621499,
     "user": {
      "displayName": "Ross Beveridge",
      "photoUrl": "https://lh3.googleusercontent.com/a-/AOh14GhZ9yfcROZXIKThWciv5reom6aDm1Spt-r8JOsVNA=s64",
      "userId": "11748907218223072510"
     },
     "user_tz": 420
    },
    "id": "au9qV0iDTPY5",
    "outputId": "02b943f3-5bd2-4623-9f03-6dd2155500d8"
   },
   "outputs": [],
   "source": [
    "import numpy as np\n",
    "from matplotlib import pyplot as plt"
   ]
  },
  {
   "cell_type": "markdown",
   "metadata": {
    "id": "yWdqnn1mTPY6"
   },
   "source": [
    "### Labeled data\n",
    "\n",
    "A labeled dataset is a collection of feature vectors and their associated labels.  To demonstrate this concept, we will load the **iris dataset**.\n",
    "This is a famous dataset collected by statistician and biologist Ronald Fisher in 1936. \n",
    "This dataset even has its own [wikipedia page](https://en.wikipedia.org/wiki/Iris_flower_data_set).\n",
    "\n",
    "The data contains measurments that describe three types of iris flowers:\n",
    "0) Iris setosa, 1) Iris virginica, and 2) Iris versicolor:\n",
    "\n",
    "<img style=\"padding: 10px; float:left;\" alt=\"Iris setosa in public domain\" src=\"https://upload.wikimedia.org/wikipedia/commons/8/86/Iris_setosa.JPG\" width=\"150\">\n",
    "<img style=\"padding: 10px; float:left;\" alt=\"Iris versicolor Danielle Langlois CC BY-SA 3.0\" src=\"https://upload.wikimedia.org/wikipedia/commons/4/41/Iris_versicolor_3.jpg\" width=\"150\">\n",
    "<img style=\"padding: 10px; float:left;\" alt=\"Iris virginica by Frank Mayfield CC BY-SA 2.0\" src=\"https://upload.wikimedia.org/wikipedia/commons/9/9f/Iris_virginica.jpg\" width=\"150\">\n",
    "\n"
   ]
  },
  {
   "cell_type": "markdown",
   "metadata": {},
   "source": [
    "### Importing data\n",
    "\n",
    "Once upon a time just getting access to common data sets took effort. That is no longer the case.  There are several easy to use packages to aid people seeking to use and better understand machine learning.  The one we will study in depth throughout this semster is [scikit-learn](https://scikit-learn.org).\n",
    "\n",
    "Scikit-learn offers convenient functionality for reading in several datasets for demonstration purposes, including the iris dataset:"
   ]
  },
  {
   "cell_type": "code",
   "execution_count": 18,
   "metadata": {
    "colab": {
     "base_uri": "https://localhost:8080/"
    },
    "executionInfo": {
     "elapsed": 2116,
     "status": "ok",
     "timestamp": 1611250622909,
     "user": {
      "displayName": "Ross Beveridge",
      "photoUrl": "https://lh3.googleusercontent.com/a-/AOh14GhZ9yfcROZXIKThWciv5reom6aDm1Spt-r8JOsVNA=s64",
      "userId": "11748907218223072510"
     },
     "user_tz": 420
    },
    "id": "kihqOWPCTPY7",
    "outputId": "825f128e-8244-4661-dbfe-dd83cef19f47"
   },
   "outputs": [
    {
     "name": "stdout",
     "output_type": "stream",
     "text": [
      "(150, 4) (150,)\n"
     ]
    }
   ],
   "source": [
    "from sklearn import datasets\n",
    "iris = datasets.load_iris()\n",
    "\n",
    "X = iris.data     # the features that describe the data\n",
    "y = iris.target   # the labels\n",
    "print(X.shape, y.shape)"
   ]
  },
  {
   "cell_type": "markdown",
   "metadata": {},
   "source": [
    "The matrix `X` contains the *feature vectors* that describe each iris flower, while the vector `y` contains the class labels - which type of flower.  The following command displays the feature vectors for the first five iris flowers:"
   ]
  },
  {
   "cell_type": "code",
   "execution_count": 19,
   "metadata": {
    "colab": {
     "base_uri": "https://localhost:8080/"
    },
    "executionInfo": {
     "elapsed": 2110,
     "status": "ok",
     "timestamp": 1611250622909,
     "user": {
      "displayName": "Ross Beveridge",
      "photoUrl": "https://lh3.googleusercontent.com/a-/AOh14GhZ9yfcROZXIKThWciv5reom6aDm1Spt-r8JOsVNA=s64",
      "userId": "11748907218223072510"
     },
     "user_tz": 420
    },
    "id": "JqeeKC3xTPY7",
    "outputId": "fee5e48f-2390-4d35-a3b3-98ab87241731"
   },
   "outputs": [
    {
     "name": "stdout",
     "output_type": "stream",
     "text": [
      "[[5.1 3.5 1.4 0.2]\n",
      " [4.9 3.  1.4 0.2]\n",
      " [4.7 3.2 1.3 0.2]\n",
      " [4.6 3.1 1.5 0.2]\n",
      " [5.  3.6 1.4 0.2]]\n"
     ]
    }
   ],
   "source": [
    "print (X[:5])"
   ]
  },
  {
   "cell_type": "markdown",
   "metadata": {
    "id": "mNOAP5kjTPY8"
   },
   "source": [
    "We can also obtain the names of the features:"
   ]
  },
  {
   "cell_type": "code",
   "execution_count": 20,
   "metadata": {
    "colab": {
     "base_uri": "https://localhost:8080/"
    },
    "executionInfo": {
     "elapsed": 2097,
     "status": "ok",
     "timestamp": 1611250622910,
     "user": {
      "displayName": "Ross Beveridge",
      "photoUrl": "https://lh3.googleusercontent.com/a-/AOh14GhZ9yfcROZXIKThWciv5reom6aDm1Spt-r8JOsVNA=s64",
      "userId": "11748907218223072510"
     },
     "user_tz": 420
    },
    "id": "50K-Dgo4TPY9",
    "outputId": "e52c3bf4-1c3b-4937-ae4f-0775671297d2"
   },
   "outputs": [
    {
     "data": {
      "text/plain": [
       "['sepal length (cm)',\n",
       " 'sepal width (cm)',\n",
       " 'petal length (cm)',\n",
       " 'petal width (cm)']"
      ]
     },
     "execution_count": 20,
     "metadata": {},
     "output_type": "execute_result"
    }
   ],
   "source": [
    "iris.feature_names"
   ]
  },
  {
   "cell_type": "markdown",
   "metadata": {},
   "source": [
    "Here's a picture that illustrates a flower's petals/sepals:\n",
    "\n",
    "<img style=\"padding: 10px; float:center;\" alt=\"Photograph made in Hawai'i by Eric Guinther (Marshman at en.wikipedia) and released under the GNU Free Documentation License.\" src=\"https://upload.wikimedia.org/wikipedia/commons/7/78/Petal-sepal.jpg\" width=\"250\">"
   ]
  },
  {
   "cell_type": "markdown",
   "metadata": {},
   "source": [
    "Here are the labels of the first five examples:"
   ]
  },
  {
   "cell_type": "code",
   "execution_count": 5,
   "metadata": {
    "colab": {
     "base_uri": "https://localhost:8080/"
    },
    "executionInfo": {
     "elapsed": 2104,
     "status": "ok",
     "timestamp": 1611250622910,
     "user": {
      "displayName": "Ross Beveridge",
      "photoUrl": "https://lh3.googleusercontent.com/a-/AOh14GhZ9yfcROZXIKThWciv5reom6aDm1Spt-r8JOsVNA=s64",
      "userId": "11748907218223072510"
     },
     "user_tz": 420
    },
    "id": "aN5EydRgTPY8",
    "outputId": "7d11832e-0c64-4178-94fb-a56024c58c86"
   },
   "outputs": [
    {
     "data": {
      "text/plain": [
       "array([0, 0, 0, 0, 0])"
      ]
     },
     "execution_count": 5,
     "metadata": {},
     "output_type": "execute_result"
    }
   ],
   "source": [
    "y[:5]"
   ]
  },
  {
   "cell_type": "markdown",
   "metadata": {
    "id": "oYJ9SGYxTPY-"
   },
   "source": [
    "The class labels have been mapped to integers; here are the original class names:"
   ]
  },
  {
   "cell_type": "code",
   "execution_count": 6,
   "metadata": {
    "colab": {
     "base_uri": "https://localhost:8080/"
    },
    "executionInfo": {
     "elapsed": 2087,
     "status": "ok",
     "timestamp": 1611250622911,
     "user": {
      "displayName": "Ross Beveridge",
      "photoUrl": "https://lh3.googleusercontent.com/a-/AOh14GhZ9yfcROZXIKThWciv5reom6aDm1Spt-r8JOsVNA=s64",
      "userId": "11748907218223072510"
     },
     "user_tz": 420
    },
    "id": "2HbhHXgNTPY-",
    "outputId": "fcd59e63-2446-469a-f3da-e96dca3112e3"
   },
   "outputs": [
    {
     "data": {
      "text/plain": [
       "array(['setosa', 'versicolor', 'virginica'], dtype='<U10')"
      ]
     },
     "execution_count": 6,
     "metadata": {},
     "output_type": "execute_result"
    }
   ],
   "source": [
    "iris.target_names"
   ]
  },
  {
   "cell_type": "markdown",
   "metadata": {},
   "source": [
    "So, a flower with a label `0` is an iris-setosa."
   ]
  },
  {
   "cell_type": "markdown",
   "metadata": {
    "id": "kNA7SnjhBPEO"
   },
   "source": [
    "### Understanding the data with scatter plots and histograms\n",
    "\n",
    "Python is rich with options for exploring data visually.  For this task, we will use [Seaborn](https://seaborn.pydata.org/index.html) which is built on top of Matplotlib, NumPy, pandas."
   ]
  },
  {
   "cell_type": "code",
   "execution_count": 32,
   "metadata": {
    "colab": {
     "base_uri": "https://localhost:8080/",
     "height": 586
    },
    "executionInfo": {
     "elapsed": 10988,
     "status": "ok",
     "timestamp": 1611250631818,
     "user": {
      "displayName": "Ross Beveridge",
      "photoUrl": "https://lh3.googleusercontent.com/a-/AOh14GhZ9yfcROZXIKThWciv5reom6aDm1Spt-r8JOsVNA=s64",
      "userId": "11748907218223072510"
     },
     "user_tz": 420
    },
    "id": "XW_1sz9UTPY-",
    "outputId": "244a4693-020b-4ce9-ad04-4f33787e9d3e"
   },
   "outputs": [
    {
     "ename": "TypeError",
     "evalue": "pairplot() got an unexpected keyword argument 's'",
     "output_type": "error",
     "traceback": [
      "\u001b[0;31m---------------------------------------------------------------------------\u001b[0m",
      "\u001b[0;31mTypeError\u001b[0m                                 Traceback (most recent call last)",
      "\u001b[0;32m/var/folders/7n/ksstby850fqcrzvjx95h5wh80000gn/T/ipykernel_76722/2849673796.py\u001b[0m in \u001b[0;36m<module>\u001b[0;34m\u001b[0m\n\u001b[1;32m      3\u001b[0m \u001b[0miris_df\u001b[0m \u001b[0;34m=\u001b[0m \u001b[0mpd\u001b[0m\u001b[0;34m.\u001b[0m\u001b[0mDataFrame\u001b[0m\u001b[0;34m(\u001b[0m\u001b[0mX\u001b[0m\u001b[0;34m,\u001b[0m \u001b[0mcolumns\u001b[0m\u001b[0;34m=\u001b[0m\u001b[0miris\u001b[0m\u001b[0;34m.\u001b[0m\u001b[0mfeature_names\u001b[0m\u001b[0;34m)\u001b[0m\u001b[0;34m\u001b[0m\u001b[0;34m\u001b[0m\u001b[0m\n\u001b[1;32m      4\u001b[0m \u001b[0miris_df\u001b[0m\u001b[0;34m[\u001b[0m\u001b[0;34m'y'\u001b[0m\u001b[0;34m]\u001b[0m \u001b[0;34m=\u001b[0m \u001b[0mnp\u001b[0m\u001b[0;34m.\u001b[0m\u001b[0marray\u001b[0m\u001b[0;34m(\u001b[0m\u001b[0;34m[\u001b[0m\u001b[0miris\u001b[0m\u001b[0;34m.\u001b[0m\u001b[0mtarget_names\u001b[0m\u001b[0;34m[\u001b[0m\u001b[0mi\u001b[0m\u001b[0;34m]\u001b[0m \u001b[0;32mfor\u001b[0m \u001b[0mi\u001b[0m \u001b[0;32min\u001b[0m \u001b[0miris\u001b[0m\u001b[0;34m.\u001b[0m\u001b[0mtarget\u001b[0m\u001b[0;34m]\u001b[0m\u001b[0;34m)\u001b[0m\u001b[0;34m\u001b[0m\u001b[0;34m\u001b[0m\u001b[0m\n\u001b[0;32m----> 5\u001b[0;31m \u001b[0msns\u001b[0m\u001b[0;34m.\u001b[0m\u001b[0mpairplot\u001b[0m\u001b[0;34m(\u001b[0m\u001b[0miris_df\u001b[0m\u001b[0;34m,\u001b[0m \u001b[0mhue\u001b[0m\u001b[0;34m=\u001b[0m\u001b[0;34m'y'\u001b[0m\u001b[0;34m,\u001b[0m \u001b[0mheight\u001b[0m\u001b[0;34m=\u001b[0m\u001b[0;36m1.25\u001b[0m\u001b[0;34m,\u001b[0m \u001b[0mplot_kws\u001b[0m\u001b[0;34m=\u001b[0m\u001b[0;34m{\u001b[0m\u001b[0;34m'alpha'\u001b[0m\u001b[0;34m:\u001b[0m\u001b[0;36m0.5\u001b[0m\u001b[0;34m}\u001b[0m\u001b[0;34m,\u001b[0m \u001b[0ms\u001b[0m\u001b[0;34m=\u001b[0m\u001b[0;36m10\u001b[0m\u001b[0;34m)\u001b[0m\u001b[0;34m;\u001b[0m\u001b[0;34m\u001b[0m\u001b[0;34m\u001b[0m\u001b[0m\n\u001b[0m",
      "\u001b[0;31mTypeError\u001b[0m: pairplot() got an unexpected keyword argument 's'"
     ]
    }
   ],
   "source": [
    "import seaborn as sns\n",
    "import pandas as pd\n",
    "iris_df = pd.DataFrame(X, columns=iris.feature_names)\n",
    "iris_df['y'] = np.array([iris.target_names[i] for i in iris.target])\n",
    "sns.pairplot(iris_df, hue='y', height=1.25, plot_kws={'alpha':0.5});"
   ]
  },
  {
   "cell_type": "markdown",
   "metadata": {
    "id": "KcAHvhVhTPY_"
   },
   "source": [
    "#### Reflection:\n",
    "\n",
    "* Does the data seem to be useful for the classification task of distinguishing between iris species?\n",
    "* Which features are most informative?  Are petal measurments more relevant than information on sepal leaves?"
   ]
  },
  {
   "cell_type": "markdown",
   "metadata": {
    "id": "gbF74TH6TPY_"
   },
   "source": [
    "### Labeled data defined\n",
    "\n",
    "Let us now define a *labeled dataset* more formally as a collection of *labeled examples*.\n",
    "\n",
    "$$\n",
    "\\mathcal{D} = \\{ \\;(\\mathbf{x}_i, y_i) \\; \\}_{i=1}^N.\n",
    "$$\n",
    "\n",
    "$\\mathbf{x}_i \\in \\mathbb{R}^d$ is the *feature vector* and $y_i$ is the label associated with $\\mathbf{x}_i$.\n",
    "\n",
    "Recall that $\\mathbb{R}^d$ is the set of all $d$-dimensional vectors with entries that are real numbers and that the notation $\\mathbb{R}^d$ is a [cartesian product](https://en.wikipedia.org/wiki/Cartesian_product), of the set $\\mathbb{R}$ with itself.  The font used to represent the set of real numbers, $\\mathbb{R}$ is called [blackboard bold](https://en.wikipedia.org/wiki/Blackboard_bold).\n",
    "\n",
    "For *classification problems* the labels are a discrete set, e.g. $\\{0, 1 \\}$ for a binary classification problem.\n",
    "For *regression problems* the labels are continuous.\n",
    "\n",
    "#### Exercise\n",
    "\n",
    "* Give an example of a classification problem.\n",
    "* Give an example of a regression problem.\n",
    "\n",
    "As we saw above, we will represent the collection of feature vectors as a matrix $X$, where row $i$ of $X$ is equal to $\\mathbf{x}_i$.  In other words $X$ is an $N \\times d$ matrix.\n"
   ]
  },
  {
   "cell_type": "markdown",
   "metadata": {
    "id": "wgr8EIp2TPY_"
   },
   "source": [
    "**Objective**:  train a classifier that will accurately predict the class label $y$ of an object given features $\\mathbf{x}$ that characterize it."
   ]
  },
  {
   "cell_type": "markdown",
   "metadata": {},
   "source": [
    "### Question\n",
    "\n",
    "Consider the following data:"
   ]
  },
  {
   "cell_type": "code",
   "execution_count": 8,
   "metadata": {},
   "outputs": [],
   "source": [
    "X_orig = np.array([[5, 2, 8, 5], [4, 2, 9, 8]])\n",
    "X_add = np.array([[4, 8, 5, 4], [3, 1, 5, 8]])"
   ]
  },
  {
   "cell_type": "code",
   "execution_count": 9,
   "metadata": {},
   "outputs": [
    {
     "data": {
      "text/plain": [
       "array([[5, 2, 8, 5, 4, 8, 5, 4],\n",
       "       [4, 2, 9, 8, 3, 1, 5, 8]])"
      ]
     },
     "execution_count": 9,
     "metadata": {},
     "output_type": "execute_result"
    }
   ],
   "source": [
    "X = np.hstack([X_orig, X_add])\n",
    "X"
   ]
  },
  {
   "cell_type": "markdown",
   "metadata": {},
   "source": [
    "In the code above, did we add features or examples to our data?\n"
   ]
  },
  {
   "cell_type": "code",
   "execution_count": 10,
   "metadata": {},
   "outputs": [
    {
     "data": {
      "text/plain": [
       "array([[5, 2, 8, 5],\n",
       "       [4, 2, 9, 8],\n",
       "       [4, 8, 5, 4],\n",
       "       [3, 1, 5, 8]])"
      ]
     },
     "execution_count": 10,
     "metadata": {},
     "output_type": "execute_result"
    }
   ],
   "source": [
    "X = np.vstack([X_orig, X_add])\n",
    "X"
   ]
  },
  {
   "cell_type": "markdown",
   "metadata": {},
   "source": [
    "In the code above, did we add features or examples to our data?"
   ]
  },
  {
   "cell_type": "markdown",
   "metadata": {},
   "source": [
    "### A simple classification problem\n",
    "\n",
    "Let's create a simple classification problem with feature vectors in two dimensions:"
   ]
  },
  {
   "cell_type": "code",
   "execution_count": 11,
   "metadata": {
    "executionInfo": {
     "elapsed": 10988,
     "status": "ok",
     "timestamp": 1611250631819,
     "user": {
      "displayName": "Ross Beveridge",
      "photoUrl": "https://lh3.googleusercontent.com/a-/AOh14GhZ9yfcROZXIKThWciv5reom6aDm1Spt-r8JOsVNA=s64",
      "userId": "11748907218223072510"
     },
     "user_tz": 420
    },
    "id": "oVNanrnyTPY_"
   },
   "outputs": [],
   "source": [
    "from sklearn.datasets import make_classification\n",
    "X,y = make_classification(n_samples=100, n_features=2, n_informative=2, \n",
    "                          n_redundant=0, n_repeated=0, \n",
    "                          n_classes=2, n_clusters_per_class=1, \n",
    "                          class_sep=0.4, random_state=1)"
   ]
  },
  {
   "cell_type": "markdown",
   "metadata": {
    "id": "1u2Jix2fBPER"
   },
   "source": [
    "Note the use of a handy capability supplied by the scikit-learn to produce \"toy\" datasets using [make_classification](https://scikit-learn.org/stable/modules/generated/sklearn.datasets.make_classification.html).\n",
    "\n",
    "Now let's examine the data:"
   ]
  },
  {
   "cell_type": "code",
   "execution_count": 12,
   "metadata": {
    "colab": {
     "base_uri": "https://localhost:8080/"
    },
    "executionInfo": {
     "elapsed": 10983,
     "status": "ok",
     "timestamp": 1611250631819,
     "user": {
      "displayName": "Ross Beveridge",
      "photoUrl": "https://lh3.googleusercontent.com/a-/AOh14GhZ9yfcROZXIKThWciv5reom6aDm1Spt-r8JOsVNA=s64",
      "userId": "11748907218223072510"
     },
     "user_tz": 420
    },
    "id": "FdQ1pvi6TPZA",
    "outputId": "fef39594-5274-4102-fb9d-b412ffaa5058"
   },
   "outputs": [
    {
     "data": {
      "text/plain": [
       "((100, 2), (100,))"
      ]
     },
     "execution_count": 12,
     "metadata": {},
     "output_type": "execute_result"
    }
   ],
   "source": [
    "X.shape, y.shape"
   ]
  },
  {
   "cell_type": "code",
   "execution_count": 13,
   "metadata": {
    "colab": {
     "base_uri": "https://localhost:8080/",
     "height": 266
    },
    "executionInfo": {
     "elapsed": 10978,
     "status": "ok",
     "timestamp": 1611250631820,
     "user": {
      "displayName": "Ross Beveridge",
      "photoUrl": "https://lh3.googleusercontent.com/a-/AOh14GhZ9yfcROZXIKThWciv5reom6aDm1Spt-r8JOsVNA=s64",
      "userId": "11748907218223072510"
     },
     "user_tz": 420
    },
    "id": "Jk2K1T8hTPZA",
    "outputId": "8db998a3-1cdd-4256-da8e-e5c1fe1fbc63"
   },
   "outputs": [
    {
     "data": {
      "image/png": "[encoded data removed]",
      "text/plain": [
       "<Figure size 432x288 with 1 Axes>"
      ]
     },
     "metadata": {
      "needs_background": "light"
     },
     "output_type": "display_data"
    }
   ],
   "source": [
    "plt.scatter(X[:,0], X[:,1], c=y, alpha=0.7, s=50, cmap='coolwarm');"
   ]
  },
  {
   "cell_type": "markdown",
   "metadata": {
    "id": "eTqEveC7BPES"
   },
   "source": [
    "In this [scatterplot](https://matplotlib.org/3.3.3/api/_as_gen/matplotlib.pyplot.scatter.html), note the use of a specific [color map](https://matplotlib.org/3.1.0/tutorials/colors/colormaps.html) instead of the default and also [alpha blending](https://en.wikipedia.org/wiki/Alpha_compositing), which controls the transparency of the blobs.  \n",
    "\n",
    "Based on this scatterplot we might heuristically decide on a rule to classify our datapoints based on the value of the first feature:"
   ]
  },
  {
   "cell_type": "code",
   "execution_count": 14,
   "metadata": {
    "colab": {
     "base_uri": "https://localhost:8080/",
     "height": 266
    },
    "executionInfo": {
     "elapsed": 10972,
     "status": "ok",
     "timestamp": 1611250631820,
     "user": {
      "displayName": "Ross Beveridge",
      "photoUrl": "https://lh3.googleusercontent.com/a-/AOh14GhZ9yfcROZXIKThWciv5reom6aDm1Spt-r8JOsVNA=s64",
      "userId": "11748907218223072510"
     },
     "user_tz": 420
    },
    "id": "N1sXRKQMBPES",
    "outputId": "41c6ebe9-945e-47be-8aaa-701b0623221c"
   },
   "outputs": [
    {
     "data": {
      "image/png": "[encoded data removed]",
      "text/plain": [
       "<Figure size 432x288 with 1 Axes>"
      ]
     },
     "metadata": {
      "needs_background": "light"
     },
     "output_type": "display_data"
    }
   ],
   "source": [
    "plt.scatter(X[:,0], X[:,1], c=y, alpha=0.7, s=50, cmap='coolwarm')\n",
    "plt.plot([0.05, 0.05], [-0.5, 1.5], linewidth=32, alpha=0.25, linestyle='-',color='k');"
   ]
  },
  {
   "cell_type": "markdown",
   "metadata": {
    "id": "ZE8kcBxuTPZB"
   },
   "source": [
    "### What might we conclude ?\n",
    "\n",
    "Looking at this data, we might conclude that a good classification rule would be based on the value of the first feature, and whether it is larger than some threshold (say 0).  However:\n",
    "\n",
    "* This threshold was chosen on a specific dataset.  How well do we expect it to perform on new data?\n",
    "* How to algorithmically decide on a rule that is expected to perform well?\n",
    "\n",
    "This is exactly what we will do in this course:  *design algorithms that generalize well to unseen data, and determine how close we are to this goal*."
   ]
  },
  {
   "cell_type": "markdown",
   "metadata": {
    "id": "BIrDXtHaTPZB"
   },
   "source": [
    "### Classification, regression, and beyond \n",
    "\n",
    "In this course we will address the following forms of learning problems:\n",
    "\n",
    "<img style=\"padding: 10px; float:right;\" alt=\"linear regression in public domain\" src=\"https://upload.wikimedia.org/wikipedia/commons/3/3a/Linear_regression.svg\" width=\"250\">\n",
    "\n",
    "* **Classification:**  discrete/categorical labels\n",
    "* **Regression:**  continuous labels\n",
    "* **Clustering:**  no labels \n",
    "\n",
    "Classification and regression are forms of *supervised learning*, where we learn to predict a desired output on the basis of labeled examples.\n",
    "Clustering is an example of *unsupervised learning*.  Unsupervised learning is often a preliminary step before applying supervised learning, where we create an internal representation of the input e.g. form clusters; extract features etc.\n"
   ]
  },
  {
   "cell_type": "markdown",
   "metadata": {
    "id": "rPeRfPK1TPZB"
   },
   "source": [
    "### What kinds of problems are amenable for a machine learning solution?\n",
    "\n",
    "Which of the following problems are suited for machine learning?\n",
    "\n",
    "* Classifying numbers into primes and non-primes. \n",
    "* Predicting the time it would take a falling object to hit the ground. \n",
    "* Determining the optimal cycle for traffic lights in a busy intersection. \n",
    "* Medical diagnosis\n"
   ]
  },
  {
   "cell_type": "markdown",
   "metadata": {
    "id": "MVyOUTDLTPZB"
   },
   "source": [
    "### Formulating classification problems\n",
    "\n",
    "When trying to address a classification problem we explore and hope to discover and use relationships between feature vectors and their labels.  As machine learning engineers, one of our tasks is to decide what information to collect for our feature vectors.  The better the features we collect, the better the resulting accuracy!\n",
    "\n",
    "As an example let's consider the problem of deciding on whether to approve an applicant for credit or a loan.  What features would you collect?"
   ]
  },
  {
   "cell_type": "markdown",
   "metadata": {
    "id": "XlIGs1csTPZC"
   },
   "source": [
    "*Features for the credit approval problem:*\n",
    "\n",
    "* Age\n",
    "* ..."
   ]
  }
 ],
 "metadata": {
  "colab": {
   "collapsed_sections": [],
   "name": "module01_02_labeled_data.ipynb",
   "provenance": []
  },
  "kernelspec": {
   "display_name": "Python 3 (ipykernel)",
   "language": "python",
   "name": "python3"
  },
  "language_info": {
   "codemirror_mode": {
    "name": "ipython",
    "version": 3
   },
   "file_extension": ".py",
   "mimetype": "text/x-python",
   "name": "python",
   "nbconvert_exporter": "python",
   "pygments_lexer": "ipython3",
   "version": "3.9.12"
  }
 },
 "nbformat": 4,
 "nbformat_minor": 4
}

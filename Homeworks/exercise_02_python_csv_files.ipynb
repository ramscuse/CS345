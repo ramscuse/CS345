{
 "cells": [
  {
   "cell_type": "markdown",
   "metadata": {},
   "source": [
    "# CS 345 Exercise 02:  working with CSV files\n",
    "\n",
    "**Instructions:** Complete the exercises in this notebook and submit it via Canvas.\n",
    "\n",
    "\n",
    "CSV (comma separated values) is one of the basic formats for distributing data.  CSV files are used to represent data that is in the form of a two dimensional array, i.e. a matrix.  For example: \n",
    "\n",
    "\\begin{pmatrix}\n",
    "12 & 13 & 1\\\\\n",
    "3 & 5 & 2\n",
    "\\end{pmatrix}\n",
    "\n",
    "Let's create a CSV file that contains this matrix:"
   ]
  },
  {
   "cell_type": "code",
   "execution_count": 1,
   "metadata": {},
   "outputs": [],
   "source": [
    "data = \"\"\"12,13,1\n",
    "3,5,2\n",
    "\"\"\"\n",
    "file_handle = open(\"data.csv\", \"w\")\n",
    "file_handle.write(data)\n",
    "file_handle.close()"
   ]
  },
  {
   "cell_type": "markdown",
   "metadata": {},
   "source": [
    "The following will print the contents of the file (on a Windows machine use `!type` instead of `!cat`):"
   ]
  },
  {
   "cell_type": "code",
   "execution_count": 2,
   "metadata": {},
   "outputs": [
    {
     "name": "stdout",
     "output_type": "stream",
     "text": [
      "12,13,1\r\n",
      "3,5,2\r\n"
     ]
    }
   ],
   "source": [
    "!cat data.csv"
   ]
  },
  {
   "cell_type": "markdown",
   "metadata": {},
   "source": [
    "## Exercises\n",
    "\n",
    "\n",
    "### Reading a CSV file\n",
    "\n",
    "Write a function called `csv_read(file_name)` that reads the data stored in the given file and returns a matrix as a list-of-lists.  Given the above file if you read it using your function\n",
    "\n",
    "```python\n",
    "matrix = csv_read(\"data.csv\")\n",
    "```\n",
    "\n",
    "should give you the matrix\n",
    "\n",
    "```python\n",
    "[[12.0, 13.0, 1.0], [3.0, 5.0, 2.0]]\n",
    "```\n",
    "\n",
    "and\n",
    "\n",
    "```python\n",
    ">>> matrix[0]\n",
    "[12.0, 13.0, 1.0]\n",
    "```\n",
    "\n",
    "```python\n",
    ">>> matrix[1][2]\n",
    "2.0\n",
    "```"
   ]
  },
  {
   "cell_type": "code",
   "execution_count": 3,
   "metadata": {},
   "outputs": [],
   "source": [
    "# fill in the implementation of the following function:\n",
    "\n",
    "def csv_read(file_name) :\n",
    "    pass"
   ]
  },
  {
   "cell_type": "markdown",
   "metadata": {},
   "source": [
    "The following cell won't do much until you provide an implementation for `csv_read`.  The Python `pass` keyword is a command that does nothing, and is a placeholder for your implementation."
   ]
  },
  {
   "cell_type": "code",
   "execution_count": 4,
   "metadata": {},
   "outputs": [
    {
     "name": "stdout",
     "output_type": "stream",
     "text": [
      "None\n"
     ]
    }
   ],
   "source": [
    "matrix = csv_read(\"data.csv\")\n",
    "print(matrix)"
   ]
  },
  {
   "cell_type": "markdown",
   "metadata": {},
   "source": [
    "Some pointers to get you started:\n",
    "\n",
    "\n",
    "First, here's the Pythonic way of reading a file:\n",
    "\n",
    "```Python\n",
    "    try: \n",
    "        file_handle = open(file_name)   \n",
    "        # file_name is the name of the file\n",
    "    except :\n",
    "        return -1\n",
    "    with file_handle :\n",
    "        for line in file_handle :\n",
    "            # process each line\n",
    "```\n",
    "\n",
    "The `try-except` block takes care of the situation of a file name that does not correspond to an open-able file.\n",
    "\n",
    "For processing each line, we recommend using a string's [split](https://docs.python.org/3.7/library/stdtypes.html?highlight=split#str.split) method.\n",
    "To convert the string literals to floating point numbers use the `float` function."
   ]
  },
  {
   "cell_type": "markdown",
   "metadata": {},
   "source": [
    "### Operations on matrices\n",
    "\n",
    "As a second exercise, write two functions that return the sum of the elements in the rows/columns of the matrix:"
   ]
  },
  {
   "cell_type": "code",
   "execution_count": 5,
   "metadata": {},
   "outputs": [],
   "source": [
    "def sum_columns(matrix) :\n",
    "    \"\"\"\n",
    "    return a list where element i of the list contains the sum\n",
    "    of all elements in column i of the input matrix.\n",
    "    \n",
    "    for example, using the matrix [[12.0, 13.0, 1.0], [3.0, 5.0, 2.0]]\n",
    "    as input, should produce the return value [15.0, 18.0, 3.0]\n",
    "    \"\"\"\n",
    "    return []\n",
    "\n",
    "def sum_rows(matrix) :\n",
    "    \"\"\"\n",
    "    return a list where element i of the list contains the sum\n",
    "    of all elements in row i of the input matrix.\n",
    "    \n",
    "    for example, using the matrix [[12.0, 13.0, 1.0], [3.0, 5.0, 2.0]]\n",
    "    as input, should produce the return value [26.0, 10.0]\n",
    "    \"\"\"\n",
    "    return []"
   ]
  },
  {
   "cell_type": "code",
   "execution_count": 6,
   "metadata": {},
   "outputs": [],
   "source": [
    "# code for verifying your implementation"
   ]
  },
  {
   "cell_type": "markdown",
   "metadata": {},
   "source": [
    "### CSV files in practice\n",
    "\n",
    "CSV files are so common that the Python standard library includes a module called `csv`.  Details are in the [Python documentation](https://docs.python.org/3/library/csv.html).  Do not use it in your implementation.  You are welcome to do so as a follow up.\n",
    "\n",
    "Reading CSV files is such a common task that there are other options in [NumPy](https://docs.scipy.org/doc/numpy/reference/generated/numpy.genfromtxt.html) and [pandas](https://pandas.pydata.org/pandas-docs/stable/reference/api/pandas.read_csv.html)."
   ]
  },
  {
   "cell_type": "markdown",
   "metadata": {},
   "source": [
    "### Slicing Python lists"
   ]
  },
  {
   "cell_type": "markdown",
   "metadata": {},
   "source": [
    "**Slices** allow you to create sublists of existing lists.  \n",
    "\n",
    "The syntax for slicing is as follows:\n",
    "\n",
    "```Python\n",
    "sequence [start:stop[:step]]\n",
    "```\n",
    "\n",
    "start\n",
    "Optional. Starting index of the slice. Defaults to 0.\n",
    "stop\n",
    "Optional. The last index of the slice or the number of items to get. Defaults to len(sequence).\n",
    "step\n",
    "Optional. Extended slice syntax. Step value of the slice. Defaults to 1.\n",
    "\n",
    "For example:"
   ]
  },
  {
   "cell_type": "code",
   "execution_count": 7,
   "metadata": {},
   "outputs": [
    {
     "data": {
      "text/plain": [
       "[2, 3, 4, 5]"
      ]
     },
     "execution_count": 7,
     "metadata": {},
     "output_type": "execute_result"
    }
   ],
   "source": [
    "values = [1,2,3,4,5,6,7,8]\n",
    "values[1:5]"
   ]
  },
  {
   "cell_type": "markdown",
   "metadata": {},
   "source": [
    "Next, try out the following commands:\n",
    "\n",
    "```python\n",
    "values[1:3]  \n",
    "values[2:-1] \n",
    "values[:2]   \n",
    "values[2:]   \n",
    "values[::2] # the last value is the step/stride\n",
    "```"
   ]
  },
  {
   "cell_type": "code",
   "execution_count": 8,
   "metadata": {},
   "outputs": [],
   "source": [
    "# experiment with slices"
   ]
  },
  {
   "cell_type": "markdown",
   "metadata": {},
   "source": [
    "Based on your experiment answer the following:\n",
    "\n",
    "* What happens if you omit the start/end index?\n",
    "* What is the effect of using negative indices for the start or end index?\n",
    "* What is the effect of using a negative step/stride?"
   ]
  },
  {
   "cell_type": "markdown",
   "metadata": {},
   "source": [
    "*your answer here*"
   ]
  },
  {
   "cell_type": "markdown",
   "metadata": {},
   "source": [
    "* Write code that reverses a list using a slice (hint:  negative strides)."
   ]
  },
  {
   "cell_type": "code",
   "execution_count": 9,
   "metadata": {},
   "outputs": [],
   "source": [
    "# reversing a list with a slice"
   ]
  }
 ],
 "metadata": {
  "kernelspec": {
   "display_name": "Python 3 (ipykernel)",
   "language": "python",
   "name": "python3"
  },
  "language_info": {
   "codemirror_mode": {
    "name": "ipython",
    "version": 3
   },
   "file_extension": ".py",
   "mimetype": "text/x-python",
   "name": "python",
   "nbconvert_exporter": "python",
   "pygments_lexer": "ipython3",
   "version": "3.7.6"
  }
 },
 "nbformat": 4,
 "nbformat_minor": 1
}

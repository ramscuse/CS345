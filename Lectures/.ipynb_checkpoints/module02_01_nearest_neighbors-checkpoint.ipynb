{
 "cells": [
  {
   "cell_type": "markdown",
   "metadata": {},
   "source": [
    "*This notebook is part of  course materials for CS 345: Machine Learning Foundations and Practice at Colorado State University.\n",
    "Original versions were created by Asa Ben-Hur and updated by Ross Beveridge.\n",
    "The content is availabe [on GitHub](https://github.com/asabenhur/CS345).*\n",
    "\n",
    "*The text is released under the [CC BY-SA license](https://creativecommons.org/licenses/by-sa/4.0/), and code is released under the [MIT license](https://opensource.org/licenses/MIT).*"
   ]
  },
  {
   "cell_type": "markdown",
   "metadata": {},
   "source": [
    "<a href=\"https://colab.research.google.com/github//asabenhur/CS345/blob/master/fall22/notebooks/module02_01_nearest_neighbors.ipynb\">\n",
    "  <img align=\"left\" src=\"https://colab.research.google.com/assets/colab-badge.svg\" alt=\"Open In Colab\"/>\n",
    "</a>"
   ]
  },
  {
   "cell_type": "code",
   "execution_count": 2,
   "metadata": {
    "id": "a-f1mkKcYJSt"
   },
   "outputs": [],
   "source": [
    "import numpy as np\n",
    "from matplotlib import pylab as plt"
   ]
  },
  {
   "cell_type": "markdown",
   "metadata": {
    "id": "OPUATJiNYJSq"
   },
   "source": [
    "# Nearest Neighbor Classifiers\n"
   ]
  },
  {
   "cell_type": "markdown",
   "metadata": {
    "id": "BeKwPXcIYJSu"
   },
   "source": [
    "The nearest neighbor classifier is one of the simplest machine learning methods available.\n",
    "Here's the simplest version of it:\n",
    "\n",
    "\n",
    "*Nearest neighbor classifier*\n",
    "\n",
    "* Find the example in the training data that is closest to\n",
    "  the example that needs to be classified.\n",
    "* Return its label\n"
   ]
  },
  {
   "cell_type": "markdown",
   "metadata": {
    "id": "mmTLdUUcYJSv"
   },
   "source": [
    "## Measuring distance\n",
    "\n",
    "To implement this idea we need to define a concrete notion of closeness.\n",
    "We'll do that using the **distance** between examples. \n",
    "\n",
    "First recall that the *norm* of a vector was defined as:\n",
    "\n",
    "$$\n",
    "||\\mathbf{x}||^2 = \\mathbf{x}^\\top \\mathbf{x}.\n",
    "$$\n",
    "\n",
    "Using this notation, we can define the **Euclidean distance** $d_2(\\mathbf{x}, \\mathbf{x}')$ between vectors $\\mathbf{x}$ and $\\mathbf{x}'$ as:\n",
    "\n",
    "$$\n",
    "d_2(\\mathbf{x}, \\mathbf{x}')^2 = ||\\mathbf{x} - \\mathbf{x}'||^2 = \n",
    "(\\mathbf{x} - \\mathbf{x}')^\\top (\\mathbf{x} - \\mathbf{x}') = \n",
    "\\sum_{i=1}^d (x_i - x_i')^2.\n",
    "$$\n",
    "\n",
    "Here are some NumPy implementations that directly reflect the different ways of expressing this definition:"
   ]
  },
  {
   "cell_type": "code",
   "execution_count": 3,
   "metadata": {
    "id": "UBzR778gYJSv",
    "outputId": "efbf9b2c-5620-4c35-e61f-d8502b1172ce"
   },
   "outputs": [
    {
     "data": {
      "text/plain": [
       "1.4142135623730951"
      ]
     },
     "execution_count": 3,
     "metadata": {},
     "output_type": "execute_result"
    }
   ],
   "source": [
    "def distance(x1, x2):\n",
    "    return np.linalg.norm(x1-x2)\n",
    "\n",
    "distance(np.array([2,1]), np.array([1,0]))"
   ]
  },
  {
   "cell_type": "code",
   "execution_count": null,
   "metadata": {
    "id": "JGLMUSyTYJSw",
    "outputId": "90708800-3bf6-4408-e051-87ead70ee3d5"
   },
   "outputs": [
    {
     "data": {
      "text/plain": [
       "1.4142135623730951"
      ]
     },
     "execution_count": 3,
     "metadata": {},
     "output_type": "execute_result"
    }
   ],
   "source": [
    "def distance2(x1, x2):\n",
    "    return np.sqrt(np.dot(x1-x2, x1-x2))\n",
    "\n",
    "distance2(np.array([2,1]), np.array([1,0]))"
   ]
  },
  {
   "cell_type": "code",
   "execution_count": null,
   "metadata": {
    "id": "GPe6Wd6HYJSx",
    "outputId": "902ee2ee-0ab6-41af-bee7-3ba7eb5392b3"
   },
   "outputs": [
    {
     "data": {
      "text/plain": [
       "1.4142135623730951"
      ]
     },
     "execution_count": 4,
     "metadata": {},
     "output_type": "execute_result"
    }
   ],
   "source": [
    "def distance3(x1, x2):\n",
    "    return np.sqrt(np.sum( (x1-x2)**2) )\n",
    "\n",
    "distance3(np.array([2,1]), np.array([1,0]))"
   ]
  },
  {
   "cell_type": "markdown",
   "metadata": {
    "id": "JGpO0YNCYJSx"
   },
   "source": [
    "Now we are ready to implement the nearest neighbor classifier:"
   ]
  },
  {
   "cell_type": "code",
   "execution_count": 4,
   "metadata": {
    "id": "-Z4n-oVuYJSx"
   },
   "outputs": [],
   "source": [
    "class nearest_neighbor:\n",
    "    def __init__(self):\n",
    "        pass\n",
    "    def fit(self, X, y):\n",
    "        self.X = X\n",
    "        self.y = y\n",
    "    def get_nearest(self, x):\n",
    "        distances = [distance(x, self.X[i]) \n",
    "                     for i in range(len(self.X))]\n",
    "        return np.argmin(distances)\n",
    "    def predict(self, x) :\n",
    "        return self.y[self.get_nearest(x)]"
   ]
  },
  {
   "cell_type": "markdown",
   "metadata": {
    "id": "D6kMpR9vYJSy"
   },
   "source": [
    "## Example with a digit classification dataset\n",
    "\n",
    "Let's apply this classifier to the digit classification dataset bundled with scikit-learn.  This dataset is originally from the [UCI machine learning repository](https://archive.ics.uci.edu/ml/datasets/Optical+Recognition+of+Handwritten+Digits), and addresses handwritten image recognition."
   ]
  },
  {
   "cell_type": "code",
   "execution_count": 8,
   "metadata": {
    "id": "1PwzyxtzYJSy"
   },
   "outputs": [],
   "source": [
    "from sklearn import datasets\n",
    "digits = datasets.load_digits()"
   ]
  },
  {
   "cell_type": "code",
   "execution_count": 9,
   "metadata": {
    "id": "uN3s15dwYJSz",
    "outputId": "2ecf9df6-bda5-4931-c3d8-b7697328283c"
   },
   "outputs": [
    {
     "name": "stdout",
     "output_type": "stream",
     "text": [
      "(1797, 64) (1797,)\n"
     ]
    }
   ],
   "source": [
    "X = digits.data\n",
    "y = digits.target\n",
    "print(X.shape, y.shape)"
   ]
  },
  {
   "cell_type": "markdown",
   "metadata": {
    "id": "07R-1WjhYJSz"
   },
   "source": [
    "Each pixel in an image corresponds to a feature, so an 8 x 8 images yield a feature matrix which has 64 dimensions.  Each element in the feature matrix represents the grey-level of the pixel measured as an integer between 0 and 16:"
   ]
  },
  {
   "cell_type": "code",
   "execution_count": 10,
   "metadata": {
    "id": "sy2NnKCoYJSz",
    "outputId": "5e9ae771-cd43-4360-ebde-5bc47ef6b807"
   },
   "outputs": [
    {
     "data": {
      "text/plain": [
       "(16.0, 0.0)"
      ]
     },
     "execution_count": 10,
     "metadata": {},
     "output_type": "execute_result"
    }
   ],
   "source": [
    "X.max(),X.min()"
   ]
  },
  {
   "cell_type": "markdown",
   "metadata": {
    "id": "H5bk3rpOYJS0"
   },
   "source": [
    "Before displaying the images, let us take a moment and look at the array of pixels for an image."
   ]
  },
  {
   "cell_type": "code",
   "execution_count": 12,
   "metadata": {
    "id": "lm5sS1mKYJS0",
    "outputId": "7a3744df-8d20-4a34-f75e-4fa7f1ac7785"
   },
   "outputs": [
    {
     "name": "stdout",
     "output_type": "stream",
     "text": [
      "The pixel values for image index 0 which is the digit 0\n",
      "[[ 0.  0.  5. 13.  9.  1.  0.  0.]\n",
      " [ 0.  0. 13. 15. 10. 15.  5.  0.]\n",
      " [ 0.  3. 15.  2.  0. 11.  8.  0.]\n",
      " [ 0.  4. 12.  0.  0.  8.  8.  0.]\n",
      " [ 0.  5.  8.  0.  0.  9.  8.  0.]\n",
      " [ 0.  4. 11.  0.  1. 12.  7.  0.]\n",
      " [ 0.  2. 14.  5. 10. 12.  0.  0.]\n",
      " [ 0.  0.  6. 13. 10.  0.  0.  0.]]\n"
     ]
    }
   ],
   "source": [
    "index = 0\n",
    "print(f'The pixel values for image index {index} which is the digit {y[index]}')\n",
    "print(np.resize(X[index,:],(8,8)))"
   ]
  },
  {
   "cell_type": "markdown",
   "metadata": {
    "id": "ruYztRTDYJS0"
   },
   "source": [
    "Let's visualize the first 10 examples in the dataset as images:"
   ]
  },
  {
   "cell_type": "code",
   "execution_count": 13,
   "metadata": {
    "id": "K-pGug6-YJS1",
    "outputId": "4dccf368-94d1-403a-a711-e1350d7d1b15"
   },
   "outputs": [
    {
     "data": {
      "image/png": "[encoded data removed]",
      "text/plain": [
       "<Figure size 432x288 with 10 Axes>"
      ]
     },
     "metadata": {
      "needs_background": "light"
     },
     "output_type": "display_data"
    }
   ],
   "source": [
    "num_plots = 10\n",
    "fig, axes = plt.subplots(2, 5)\n",
    "for i in range(num_plots) :\n",
    "    ax = axes[i // 5][i % 5]\n",
    "    ax.set_axis_off()\n",
    "    ax.imshow(np.resize(X[i], (8,8)), \n",
    "              cmap=plt.cm.gray_r, interpolation='nearest')\n",
    "    ax.set_title('label: %i' % y[i])"
   ]
  },
  {
   "cell_type": "markdown",
   "metadata": {
    "id": "CPlcUwMxYJS1"
   },
   "source": [
    "Next we can histogram the pixel values for different classes for one select pixel and explore if some my be more dinstictive than others. "
   ]
  },
  {
   "cell_type": "code",
   "execution_count": 7,
   "metadata": {
    "id": "cQwbu31yYJS1"
   },
   "outputs": [],
   "source": [
    "def hist_pixs_by_class(X, pix_i, pix_j) :\n",
    "    num_plots = 10\n",
    "    Xim = X.reshape(X.shape[0],8,8)\n",
    "    pix_vals = Xim[:,pix_i,pix_j]\n",
    "    fig, axes = plt.subplots(5, 2)\n",
    "    fig.set_size_inches(9,12)\n",
    "    pix_bins = [i for i in range(17)]\n",
    " \n",
    "    for i in range(num_plots) :\n",
    "        ax = axes[i // 2][i % 2]\n",
    "        ax.set_title(f'Digit {i}: Pixel ({pix_i},{pix_j})')\n",
    "        ax.hist(pix_vals[y == i],bins=pix_bins,\n",
    "                rwidth=0.75,color='orange')\n",
    "        ax.set_ylim(0,200)\n",
    "        ax.set_xlabel(\"Pixel Intensity Value\")\n",
    "        ax.set_ylabel(\"Count\")\n",
    "        ax.set_xticks(pix_bins)\n",
    "    plt.subplots_adjust(hspace=0.75)\n",
    "    "
   ]
  },
  {
   "cell_type": "code",
   "execution_count": 9,
   "metadata": {
    "id": "cg1D7HvkYJS2",
    "outputId": "aacf2e6f-e3a8-4467-bb6e-f04e228e5847"
   },
   "outputs": [
    {
     "data": {
      "image/png": "[encoded data removed]",
      "text/plain": [
       "<Figure size 648x864 with 10 Axes>"
      ]
     },
     "metadata": {
      "needs_background": "light"
     },
     "output_type": "display_data"
    }
   ],
   "source": [
    "hist_pixs_by_class(X, 4,4)"
   ]
  },
  {
   "cell_type": "markdown",
   "metadata": {
    "id": "4Sfjjy-SYJS2"
   },
   "source": [
    "Later in the course we will see ways of visualizing high dimensional data in two or three dimensions, which will help us get a better picture of what's going on overall."
   ]
  },
  {
   "cell_type": "markdown",
   "metadata": {
    "id": "dRQnMwxEYJS2"
   },
   "source": [
    "Before using the nearest neighbor classifier we need to split the data into training and test sets:"
   ]
  },
  {
   "cell_type": "code",
   "execution_count": 21,
   "metadata": {
    "id": "z66qV1RpYJS2",
    "outputId": "2f903ce6-4fec-4916-94b2-0afb5ccbc2c2"
   },
   "outputs": [
    {
     "name": "stdout",
     "output_type": "stream",
     "text": [
      "(1257, 64) (540, 64)\n"
     ]
    }
   ],
   "source": [
    "from sklearn.model_selection import train_test_split\n",
    "X_train, X_test, y_train, y_test = train_test_split(X, y, \n",
    "    test_size=0.30, shuffle=True, random_state=42)\n",
    "\n",
    "print(X_train.shape, X_test.shape)"
   ]
  },
  {
   "cell_type": "markdown",
   "metadata": {
    "id": "d5HNoVBgYJS3"
   },
   "source": [
    "Now we are ready to classify our data:"
   ]
  },
  {
   "cell_type": "code",
   "execution_count": 22,
   "metadata": {
    "id": "T_93Ofh7YJS3"
   },
   "outputs": [],
   "source": [
    "nn = nearest_neighbor()\n",
    "nn.fit(X_train, y_train)\n",
    "y_pred = np.array([nn.predict(X_test[i]) for i in range(len(X_test))])"
   ]
  },
  {
   "cell_type": "markdown",
   "metadata": {
    "id": "7ExpBC3sYJS3"
   },
   "source": [
    "How accurate is our classifier?"
   ]
  },
  {
   "cell_type": "code",
   "execution_count": 23,
   "metadata": {
    "id": "WIeNWeTtYJS3",
    "outputId": "8033f2ec-3945-457c-ce49-2ed676f48e73"
   },
   "outputs": [
    {
     "name": "stdout",
     "output_type": "stream",
     "text": [
      "The accuracy is 0.983\n"
     ]
    }
   ],
   "source": [
    "acc = np.sum(y_pred == y_test)/len(y_test)\n",
    "print(f'The accuracy is {acc:.3f}')"
   ]
  },
  {
   "cell_type": "markdown",
   "metadata": {
    "id": "Rr9s3CeRYJS4"
   },
   "source": [
    "Next, let's plot training examples and their closest test examples:"
   ]
  },
  {
   "cell_type": "code",
   "execution_count": 17,
   "metadata": {
    "id": "unZKdW7cYJS4",
    "outputId": "1197fe3e-aadd-461f-bb58-b48053ea1f62"
   },
   "outputs": [
    {
     "data": {
      "image/png": "[encoded data removed]",
      "text/plain": [
       "<Figure size 432x288 with 10 Axes>"
      ]
     },
     "metadata": {
      "needs_background": "light"
     },
     "output_type": "display_data"
    }
   ],
   "source": [
    "num_plots = 5\n",
    "fig, axes = plt.subplots(5, 2);\n",
    "for i in range(num_plots) :\n",
    "    ax_test = axes[i][0]\n",
    "    ax_nearest = axes[i][1]\n",
    "    ax_test.set_axis_off()\n",
    "    ax_nearest.set_axis_off()\n",
    "    ax_test.imshow(np.resize(X_test[i], (8,8)), \n",
    "              cmap=plt.cm.gray_r, interpolation='nearest')\n",
    "    nearest = X_train[nn.get_nearest(X_test[i])]\n",
    "    ax_nearest.imshow(np.resize(nearest, (8,8)), \n",
    "              cmap=plt.cm.gray_r, interpolation='nearest')\n",
    "    if (i==0):\n",
    "        ax_test.set_title('test example')\n",
    "        ax_nearest.set_title('nearest example')"
   ]
  },
  {
   "cell_type": "markdown",
   "metadata": {
    "id": "jJWzV-HsYJS4"
   },
   "source": [
    "### Reflection\n",
    "\n",
    "We got really good accuracy using our nearest neighbor classifier.  Does this mean that we have solved the problem of digit recognition using this technique?  Do we expect this classifier to work well \"in the wild\"?\n",
    "This is a truly important question to consider when training and evaluating machine learning methods.  Otherwise you may fool yourself and your customers into thinking that you have solved the problem when in reality, that is far from the truth."
   ]
  },
  {
   "cell_type": "markdown",
   "metadata": {
    "id": "Z80icz5CYJS8"
   },
   "source": [
    "## The decision boundary \n",
    "To obtain a better understanding of the nearest neighbor classifier let us consider the question of the shape of its decision boundary.  While the decision boundary of classifiers such as the perceptron are linear, the nearest neighbor classifier is more flexible as we see next.\n",
    "\n",
    "First, here's a function for plotting the decision boundary of a classifier:"
   ]
  },
  {
   "cell_type": "code",
   "execution_count": 24,
   "metadata": {
    "id": "2TYpflQyYJS8"
   },
   "outputs": [],
   "source": [
    "from matplotlib.colors import ListedColormap\n",
    "\n",
    "def plot_boundary(classifier, X, y, axes = None) :\n",
    "    \"\"\"\n",
    "    code based on:\n",
    "    https://scikit-learn.org/stable/auto_examples/neighbors/plot_classification.html\n",
    "    \"\"\"\n",
    "    classifier.fit(X, y)\n",
    "    # color maps\n",
    "    cmap_light = ListedColormap(['#FFAAAA', '#AAFFAA', '#AAAAFF'])\n",
    "    cmap_bold  = ListedColormap(['#FF0000', '#00FF00', '#0000FF'])\n",
    "    # create a two dimensional grid of points\n",
    "    h = .02  # grid size\n",
    "    x_min, x_max = X[:, 0].min() - 0.2, X[:, 0].max() + 0.2\n",
    "    y_min, y_max = X[:, 1].min() - 0.2, X[:, 1].max() + 0.2\n",
    "    xx, yy = np.meshgrid(np.arange(x_min, x_max, h),\n",
    "                         np.arange(y_min, y_max, h))\n",
    "    Z = classifier.predict(np.c_[xx.ravel(), yy.ravel()])\n",
    "\n",
    "    # plot the predictions on the grid\n",
    "    Z = Z.reshape(xx.shape)\n",
    "    plt.pcolormesh(xx, yy, Z, cmap=cmap_light, shading='auto')\n",
    "\n",
    "    # plot the training points\n",
    "    plt.scatter(X[:, 0], X[:, 1], c=y, cmap=cmap_bold, alpha=0.5)\n",
    "    \n",
    "    plt.xlim(x_min, x_max)\n",
    "    plt.ylim(y_min, y_max)\n",
    "    "
   ]
  },
  {
   "cell_type": "code",
   "execution_count": 25,
   "metadata": {
    "id": "Ih4DBT6VYJS9",
    "outputId": "b24cf4a1-8747-401d-b397-be5d91c06069"
   },
   "outputs": [
    {
     "data": {
      "image/png": "[encoded data removed]",
      "text/plain": [
       "<Figure size 432x288 with 1 Axes>"
      ]
     },
     "metadata": {
      "needs_background": "light"
     },
     "output_type": "display_data"
    }
   ],
   "source": [
    "from sklearn.datasets import make_classification\n",
    "X,y = make_classification(n_samples=100, n_features=2, n_informative=2, \n",
    "                          n_redundant=0, n_repeated=0, n_classes=2, \n",
    "                          n_clusters_per_class=1, class_sep=0.35, random_state=1)\n",
    "\n",
    "from sklearn.neighbors import KNeighborsClassifier\n",
    "classifier = KNeighborsClassifier(1)\n",
    "\n",
    "plot_boundary(classifier, X, y)"
   ]
  },
  {
   "cell_type": "markdown",
   "metadata": {
    "id": "iSG8KNDOYJS9"
   },
   "source": [
    "To further highlight the way the nearest neighbor classifier works, here's random data in two dimensions:"
   ]
  },
  {
   "cell_type": "code",
   "execution_count": null,
   "metadata": {
    "id": "GTdL-P7DYJS9",
    "outputId": "621dc7e0-97a3-471d-e0e3-3a114e39f159"
   },
   "outputs": [
    {
     "data": {
      "image/png": "[encoded data removed]",
      "text/plain": [
       "<Figure size 432x288 with 1 Axes>"
      ]
     },
     "metadata": {
      "needs_background": "light"
     },
     "output_type": "display_data"
    }
   ],
   "source": [
    "from numpy.random import default_rng\n",
    "rng = default_rng(1)\n",
    "\n",
    "X_random = rng.random(size=(100, 2))\n",
    "y_random = rng.integers(0, 2, len(X_random))\n",
    "classifier = KNeighborsClassifier(1)\n",
    "plot_boundary(classifier, X_random, y_random)"
   ]
  },
  {
   "cell_type": "markdown",
   "metadata": {
    "id": "F4xQqvRvYJS-"
   },
   "source": [
    "### Voronoi diagrams\n",
    "\n",
    "<img style=\"padding: 10px; float:left;\" alt=\"20 points and their Voronoi cells by Balu Ertl CC BY-SA 4.0\" src=\"https://upload.wikimedia.org/wikipedia/commons/5/54/Euclidean_Voronoi_diagram.svg\" width=\"250\">\n",
    "\n",
    "Turns out that the decision boundary of a nearest neighbor classifier is related to the concept of a *Voronoi diagram*.\n",
    "\n",
    "Given a collection of points $\\{\\mathbf{x}_1,\\ldots,\\mathbf{x}_N\\}$,\n",
    "the Voronoi cell associated with point $\\mathbf{x}_i$ is the set of points that are closer to $\\mathbf{x}_i$ than every other point in the collection.\n",
    "\n",
    "For nearest neighbor classification we obtain the decision boundary by merging adjacent Voronoi cells that have the same label associated with them."
   ]
  },
  {
   "cell_type": "markdown",
   "metadata": {
    "id": "iUI-2dILYJS-"
   },
   "source": [
    "### Question:\n",
    "\n",
    "What accuracy do you expect for a nearest neighbor classifier that is tested on the training set?"
   ]
  },
  {
   "cell_type": "markdown",
   "metadata": {},
   "source": [
    "### Exercise:  Accuracy with increasing levels of noise\n",
    "\n",
    "The nearest neighbor classifier is not robust to the existence of noisy features.  To demonstrate that, use the dataset below and add increasing number of noisy features.  Compute the accuracy of the classifier as you add an increasing number of noise features.\n",
    "\n",
    "Noise features can be added using the numpy [normal](https://numpy.org/doc/stable/reference/random/generated/numpy.random.Generator.normal.html#numpy.random.Generator.normal) method of a random number generator, which samples random numbers from a normal distribution.\n",
    "For example:"
   ]
  },
  {
   "cell_type": "code",
   "execution_count": 26,
   "metadata": {},
   "outputs": [
    {
     "data": {
      "text/plain": [
       "array([[ 0.1728,  0.4108,  0.1652],\n",
       "       [-0.6516,  0.4527,  0.2232]])"
      ]
     },
     "execution_count": 26,
     "metadata": {},
     "output_type": "execute_result"
    }
   ],
   "source": [
    "from numpy.random import default_rng\n",
    "rng = default_rng(1)\n",
    "# parameters of rng.normal:\n",
    "# mean, standard deviation, and size of the output array\n",
    "rng.normal(0, 0.5, size=(2,3))\n"
   ]
  },
  {
   "cell_type": "markdown",
   "metadata": {},
   "source": [
    "For this exercise, use the following dataset in two dimensions for which the nearest neighbor classifier performs well without noise:"
   ]
  },
  {
   "cell_type": "code",
   "execution_count": 27,
   "metadata": {},
   "outputs": [
    {
     "data": {
      "text/plain": [
       "0.9"
      ]
     },
     "execution_count": 27,
     "metadata": {},
     "output_type": "execute_result"
    },
    {
     "data": {
      "image/png": "[encoded data removed]",
      "text/plain": [
       "<Figure size 432x288 with 1 Axes>"
      ]
     },
     "metadata": {
      "needs_background": "light"
     },
     "output_type": "display_data"
    }
   ],
   "source": [
    "from sklearn.datasets import make_classification\n",
    "X,y = make_classification(n_samples=100, n_features=2, n_informative=2, n_redundant=0, n_repeated=0, n_classes=2, n_clusters_per_class=1, class_sep=0.35, random_state=1)\n",
    "plt.scatter(X[:,0], X[:,1], c=y, alpha=0.5, s=50);\n",
    "\n",
    "X_train, X_test, y_train, y_test = train_test_split(X, y, \n",
    "    test_size=0.3, shuffle=True, random_state=1)\n",
    "nn = nearest_neighbor()\n",
    "nn.fit(X_train, y_train)\n",
    "y_pred = np.array([nn.predict(X_test[i]) for i in range(len(X_test))])\n",
    "\n",
    "np.sum(y_pred == y_test)/len(y_test)"
   ]
  },
  {
   "cell_type": "markdown",
   "metadata": {},
   "source": [
    "To add the noise features to the feature matrix you can use the NumPy [hstack](https://numpy.org/doc/stable/reference/generated/numpy.hstack.html) method.  For example to add two noise features:"
   ]
  },
  {
   "cell_type": "code",
   "execution_count": 28,
   "metadata": {},
   "outputs": [],
   "source": [
    "num_noise = 2\n",
    "X_train_noise = np.hstack((X_train, \n",
    "                           rng.normal(0, 0.5, size=(len(X_train),num_noise))))\n",
    "X_test_noise = np.hstack((X_test, \n",
    "                          rng.normal(0, 0.5, size=(len(X_test),num_noise))))\n",
    "     "
   ]
  },
  {
   "cell_type": "markdown",
   "metadata": {},
   "source": [
    "In your code, add noise features to the dataset, as described above, where the number of noise features increases from 2 to 32, using the values `[2, 4, 8, 16, 32]`.  Plot the accuracy of the classifier as a function of the number of noise features. "
   ]
  },
  {
   "cell_type": "code",
   "execution_count": 29,
   "metadata": {},
   "outputs": [],
   "source": [
    "# your code goes here"
   ]
  },
  {
   "cell_type": "markdown",
   "metadata": {},
   "source": [
    "### Exercise:  a faster NumPy implementation\n",
    "\n",
    "Whereas our rudimentary implementation of the nearest neighbor classifier takes in a single vector as input, the nearest neighbor implementation in scikit-learn takes a matrix of test examples, which removes the need for the computationally slow `for` loop we had to use when computing the output for an entire test set.  In this exercise, extend our nearest neighbor classifier and improve its efficiency so that no for loops would be required for computing the output for a large test set.\n"
   ]
  },
  {
   "cell_type": "code",
   "execution_count": 30,
   "metadata": {},
   "outputs": [],
   "source": [
    "class nearest_neighbor:\n",
    "    def __init__(self):\n",
    "        pass\n",
    "    def fit(self, X, y):\n",
    "        self.X = X\n",
    "        self.y = y\n",
    "    def predict(self, X_test) :\n",
    "        \"\"\"\n",
    "        make nearest neighbor predictions for a two dimensional array \n",
    "        X_test, representing a test set.\n",
    "        The number of columns of X_test needs to be the same as the \n",
    "        number of columns of the training data.\n",
    "        \n",
    "        return:  an array of predictions for X_test\n",
    "        \"\"\"\n",
    "        return 0\n",
    "    "
   ]
  }
 ],
 "metadata": {
  "colab": {
   "name": "module02_04_nearest_neighbors.ipynb",
   "provenance": []
  },
  "kernelspec": {
   "display_name": "Python 3 (ipykernel)",
   "language": "python",
   "name": "python3"
  },
  "language_info": {
   "codemirror_mode": {
    "name": "ipython",
    "version": 3
   },
   "file_extension": ".py",
   "mimetype": "text/x-python",
   "name": "python",
   "nbconvert_exporter": "python",
   "pygments_lexer": "ipython3",
   "version": "3.9.12"
  }
 },
 "nbformat": 4,
 "nbformat_minor": 4
}

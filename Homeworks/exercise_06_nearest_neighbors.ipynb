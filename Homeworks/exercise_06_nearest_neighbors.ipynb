{
 "cells": [
  {
   "cell_type": "markdown",
   "metadata": {},
   "source": [
    "# Exercise 06:  nearest neighbor classification"
   ]
  },
  {
   "cell_type": "code",
   "execution_count": 1,
   "metadata": {},
   "outputs": [
    {
     "data": {
      "application/javascript": [
       "IPython.notebook.set_autosave_interval(0)"
      ]
     },
     "metadata": {},
     "output_type": "display_data"
    },
    {
     "name": "stdout",
     "output_type": "stream",
     "text": [
      "Autosave disabled\n"
     ]
    }
   ],
   "source": [
    "import numpy as np\n",
    "from matplotlib import pylab as plt\n"
   ]
  },
  {
   "cell_type": "markdown",
   "metadata": {},
   "source": [
    "# Nearest neighbor classification\n",
    "\n",
    "The nearest neighbor classifier is one of the simplest machine learning methods available.\n",
    "Here's the simplest version of it:\n",
    "\n",
    "```\n",
    "Nearest neighbor classifier\n",
    "\n",
    "- Find the example in the training data that is closest to\n",
    "  the example that needs to be classified.\n",
    "- Return its label\n",
    "```"
   ]
  },
  {
   "cell_type": "code",
   "execution_count": 2,
   "metadata": {},
   "outputs": [
    {
     "data": {
      "text/plain": [
       "1.4142135623730951"
      ]
     },
     "execution_count": 2,
     "metadata": {},
     "output_type": "execute_result"
    }
   ],
   "source": [
    "def distance(x1, x2):\n",
    "    return np.linalg.norm(x1-x2)\n",
    "\n",
    "distance(np.array([2,1]), np.array([1,0]))"
   ]
  },
  {
   "cell_type": "markdown",
   "metadata": {},
   "source": [
    "Now we are ready to implement the nearest neighbor classifier:"
   ]
  },
  {
   "cell_type": "code",
   "execution_count": 3,
   "metadata": {},
   "outputs": [],
   "source": [
    "class nearest_neighbor:\n",
    "    def __init__(self):\n",
    "        pass\n",
    "    def fit(self, X, y):\n",
    "        self.X = X\n",
    "        self.y = y\n",
    "    def get_nearest(self, x):\n",
    "        distances = [distance(x, self.X[i]) for i in range(len(self.X))]\n",
    "        return np.argmin(distances)\n",
    "    def predict(self, x) :\n",
    "        return self.y[self.get_nearest(x)]"
   ]
  },
  {
   "cell_type": "markdown",
   "metadata": {},
   "source": [
    "### Exercise:  Accuracy with increasing levels of noise\n",
    "\n",
    "The nearest neighbor classifier is not robust to the existence of noisy features.  To demonstrate that, use the dataset below and add increasing number of noisy features.  Compute the accuracy of the classifier as you add an increasing number of noise features.\n",
    "\n",
    "Noise features can be added using the numpy [normal](https://numpy.org/doc/stable/reference/random/generated/numpy.random.Generator.normal.html#numpy.random.Generator.normal) method of a random number generator, which samples random numbers from a normal distribution.\n",
    "For example:"
   ]
  },
  {
   "cell_type": "code",
   "execution_count": 4,
   "metadata": {},
   "outputs": [
    {
     "data": {
      "text/plain": [
       "array([[ 0.1727921 ,  0.41080907,  0.16521854],\n",
       "       [-0.65157862,  0.45267793,  0.22318729]])"
      ]
     },
     "execution_count": 4,
     "metadata": {},
     "output_type": "execute_result"
    }
   ],
   "source": [
    "from numpy.random import default_rng\n",
    "rng = default_rng(1)\n",
    "# parameters of rng.normal:\n",
    "# mean, standard deviation, and size of the output array\n",
    "rng.normal(0, 0.5, size=(2,3))"
   ]
  },
  {
   "cell_type": "markdown",
   "metadata": {},
   "source": [
    "For this exercise, use the following dataset in two dimensions for which the nearest neighbor classifier performs well without noise:"
   ]
  },
  {
   "cell_type": "code",
   "execution_count": 5,
   "metadata": {},
   "outputs": [
    {
     "data": {
      "text/plain": [
       "0.9"
      ]
     },
     "execution_count": 5,
     "metadata": {},
     "output_type": "execute_result"
    },
    {
     "data": {
      "image/png": "[encoded data removed]",
      "text/plain": [
       "<Figure size 432x288 with 1 Axes>"
      ]
     },
     "metadata": {
      "needs_background": "light"
     },
     "output_type": "display_data"
    }
   ],
   "source": [
    "from sklearn.datasets import make_classification\n",
    "from sklearn.model_selection import train_test_split\n",
    "X,y = make_classification(n_samples=100, n_features=2, n_informative=2, n_redundant=0, n_repeated=0, n_classes=2, n_clusters_per_class=1, class_sep=0.35, random_state=1)\n",
    "plt.scatter(X[:,0], X[:,1], c=y, alpha=0.5, s=50);\n",
    "\n",
    "X_train, X_test, y_train, y_test = train_test_split(X, y, \n",
    "    test_size=0.3, shuffle=True, random_state=1)\n",
    "nn = nearest_neighbor()\n",
    "nn.fit(X_train, y_train)\n",
    "y_pred = np.array([nn.predict(X_test[i]) for i in range(len(X_test))])\n",
    "\n",
    "np.sum(y_pred == y_test)/len(y_test)"
   ]
  },
  {
   "cell_type": "markdown",
   "metadata": {},
   "source": [
    "To add the noise features to the feature matrix you can use the Numpy [hstack](https://numpy.org/doc/stable/reference/generated/numpy.hstack.html) method.  For example to add two noise features:"
   ]
  },
  {
   "cell_type": "code",
   "execution_count": 6,
   "metadata": {},
   "outputs": [],
   "source": [
    "for num_noise in [2,4,8,]\n",
    "X_train_noise = np.hstack((X_train, \n",
    "                           rng.normal(0, 0.5, size=(len(X_train),num_noise))))\n",
    "X_test_noise = np.hstack((X_test, \n",
    "                          rng.normal(0, 0.5, size=(len(X_test),num_noise)))) "
   ]
  },
  {
   "cell_type": "code",
   "execution_count": 7,
   "metadata": {},
   "outputs": [
    {
     "data": {
      "text/plain": [
       "(70, 4)"
      ]
     },
     "execution_count": 7,
     "metadata": {},
     "output_type": "execute_result"
    }
   ],
   "source": [
    "X_train_noise.shape"
   ]
  },
  {
   "cell_type": "markdown",
   "metadata": {},
   "source": [
    "In your code, add noise features to the dataset, as described above, where the number of noise features increases from 2 to 32, using the values `[2, 4, 8, 16, 32]`.  Plot the accuracy of the classifier as a function of the number of noise features. "
   ]
  },
  {
   "cell_type": "markdown",
   "metadata": {},
   "source": [
    "### Exercise:  a faster Numpy implementation\n",
    "\n",
    "Whereas our rudimentary implementation of the nearest neighbor classifier takes in a single vector as input, the nearest neighbor implementation in scikit-learn takes a matrix of test examples.\n",
    "Furthermore, our implementation requires two for loops:  one in `get_nearest`, and another for looping over the test examples.\n",
    "In this exercise, extend our naive implementation of the nearest neighbor classifier and improve its efficiency so that fewer for loops would be required for computing predictions."
   ]
  },
  {
   "cell_type": "code",
   "execution_count": 9,
   "metadata": {},
   "outputs": [],
   "source": [
    "class nearest_neighbor:\n",
    "    def __init__(self):\n",
    "        pass\n",
    "    def fit(self, X, y):\n",
    "        self.X = X\n",
    "        self.y = y\n",
    "    def predict(self, X_test) :\n",
    "        \"\"\"\n",
    "        make nearest neighbor predictions for a two dimensional array \n",
    "        X_test, representing a test set.\n",
    "        The number of columns of X_test needs to be the same as the \n",
    "        number of columns of the training data.\n",
    "        \n",
    "        return:  an array of predictions for X_test\n",
    "        \"\"\"\n",
    "        return 0\n",
    "    "
   ]
  },
  {
   "cell_type": "markdown",
   "metadata": {},
   "source": [
    "**Comment:**  Just because your implementation contains fewer for loops doesn't mean it's necessarily faster.  For example, scipy has a method called `cdist` that computes all pairwise distances between two matrices, which is exactly what we need here.  However, their implementation performs those for loops in Python, which would make such an implementation slower than what we had created here.  So need I say, do not use that function?"
   ]
  },
  {
   "cell_type": "code",
   "execution_count": null,
   "metadata": {},
   "outputs": [],
   "source": []
  }
 ],
 "metadata": {
  "kernelspec": {
   "display_name": "Python 3 (ipykernel)",
   "language": "python",
   "name": "python3"
  },
  "language_info": {
   "codemirror_mode": {
    "name": "ipython",
    "version": 3
   },
   "file_extension": ".py",
   "mimetype": "text/x-python",
   "name": "python",
   "nbconvert_exporter": "python",
   "pygments_lexer": "ipython3",
   "version": "3.10.6"
  }
 },
 "nbformat": 4,
 "nbformat_minor": 1
}

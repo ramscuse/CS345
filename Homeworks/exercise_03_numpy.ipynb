{
 "cells": [
  {
   "cell_type": "markdown",
   "metadata": {},
   "source": [
    "# NumPy Exercises\n",
    "\n",
    "Solve the following exercises and submit the notebook via Canvas."
   ]
  },
  {
   "cell_type": "code",
   "execution_count": 2,
   "metadata": {},
   "outputs": [],
   "source": [
    "import numpy as np"
   ]
  },
  {
   "cell_type": "markdown",
   "metadata": {},
   "source": [
    "### NaN and infinity\n",
    "\n",
    "NumPy (and other computer languages/libraries) have a special value called `NaN` ([Not a Number](https://en.wikipedia.org/wiki/NaN)).\n",
    "NaN is the result of various arithmetic operations, e.g. 0/0, $-\\infty + \\infty$.\n",
    "\n",
    "In NumPy, NaN is represented as `np.nan`.  NaN satisfies the following properties:\n",
    "\n",
    "* Comparisons of NaN with a number x using one of the operators =, <, >, >=, and <= is always False.  Consequently, x != NaN is always True.\n",
    "\n",
    "* Any arithmetic operation involving a NaN leads to a NaN \n",
    "\n",
    "Infinity is represented using `np.inf`, and negative infinity is `-np.inf`.\n",
    "\n",
    "* Experiment with NaN and infinity and convince yourself that the results of the following operations make sense to you:\n",
    "\n",
    "```Pytnon\n",
    "0 * np.nan\n",
    "np.nan == np.nan\n",
    "np.inf > np.nan\n",
    "np.nan - 1\n",
    "```"
   ]
  },
  {
   "cell_type": "code",
   "execution_count": 3,
   "metadata": {},
   "outputs": [
    {
     "name": "stdout",
     "output_type": "stream",
     "text": [
      "nan\n",
      "inf\n",
      "nan\n",
      "inf\n",
      "False\n"
     ]
    }
   ],
   "source": [
    "import numpy as np\n",
    "print(np.nan)\n",
    "print(np.inf)\n",
    "print(np.nan * 0)\n",
    "print(np.inf - 1)\n",
    "print(np.inf > np.nan)"
   ]
  },
  {
   "cell_type": "markdown",
   "metadata": {},
   "source": [
    "### Creating arrays"
   ]
  },
  {
   "cell_type": "markdown",
   "metadata": {},
   "source": [
    "* Create a 3x3 matrix with the integer values from 0 to 8.  Do this by creating a one dimensional array and converting it to a two dimensional array using the [reshape](https://numpy.org/doc/stable/reference/generated/numpy.reshape.html) function."
   ]
  },
  {
   "cell_type": "code",
   "execution_count": 8,
   "metadata": {},
   "outputs": [
    {
     "data": {
      "text/plain": [
       "array([[0, 1, 2],\n",
       "       [3, 4, 5],\n",
       "       [6, 7, 8]])"
      ]
     },
     "execution_count": 8,
     "metadata": {},
     "output_type": "execute_result"
    }
   ],
   "source": [
    "a = np.array([0,1,2,3,4,5,6,7,8])\n",
    "np.reshape(a,(3,3))"
   ]
  },
  {
   "cell_type": "markdown",
   "metadata": {},
   "source": [
    "* Create the same 3x3 matrix and have the end result be a floating point array with a dtype `float64`."
   ]
  },
  {
   "cell_type": "code",
   "execution_count": 12,
   "metadata": {},
   "outputs": [
    {
     "data": {
      "text/plain": [
       "array([[0., 1., 2.],\n",
       "       [3., 4., 5.],\n",
       "       [6., 7., 8.]])"
      ]
     },
     "execution_count": 12,
     "metadata": {},
     "output_type": "execute_result"
    }
   ],
   "source": [
    "a = np.array([0,1,2,3,4,5,6,7,8])\n",
    "a = np.reshape(a,(3,3))\n",
    "a.astype(np.float64)"
   ]
  },
  {
   "cell_type": "markdown",
   "metadata": {},
   "source": [
    "* Create a vector (i.e. one dimensional array) of length 10 with random values between 0 and 1."
   ]
  },
  {
   "cell_type": "code",
   "execution_count": 13,
   "metadata": {},
   "outputs": [
    {
     "data": {
      "text/plain": [
       "array([[0.73912859],\n",
       "       [0.90204828],\n",
       "       [0.34199851],\n",
       "       [0.55881702],\n",
       "       [0.45468136],\n",
       "       [0.32724861],\n",
       "       [0.79731981],\n",
       "       [0.99745843],\n",
       "       [0.06686166],\n",
       "       [0.03341899]])"
      ]
     },
     "execution_count": 13,
     "metadata": {},
     "output_type": "execute_result"
    }
   ],
   "source": [
    "np.random.rand(10,1)"
   ]
  },
  {
   "cell_type": "markdown",
   "metadata": {},
   "source": [
    "* Create a 10x10 array with 1 on the border and 0 inside."
   ]
  },
  {
   "cell_type": "code",
   "execution_count": 28,
   "metadata": {},
   "outputs": [
    {
     "name": "stdout",
     "output_type": "stream",
     "text": [
      "[[1. 1. 1. 1. 1. 1. 1. 1. 1. 1.]\n",
      " [1. 0. 0. 0. 0. 0. 0. 0. 0. 1.]\n",
      " [1. 0. 0. 0. 0. 0. 0. 0. 0. 1.]\n",
      " [1. 0. 0. 0. 0. 0. 0. 0. 0. 1.]\n",
      " [1. 0. 0. 0. 0. 0. 0. 0. 0. 1.]\n",
      " [1. 0. 0. 0. 0. 0. 0. 0. 0. 1.]\n",
      " [1. 0. 0. 0. 0. 0. 0. 0. 0. 1.]\n",
      " [1. 0. 0. 0. 0. 0. 0. 0. 0. 1.]\n",
      " [1. 0. 0. 0. 0. 0. 0. 0. 0. 1.]\n",
      " [1. 1. 1. 1. 1. 1. 1. 1. 1. 1.]]\n"
     ]
    }
   ],
   "source": [
    "a = np.ones((10,10))\n",
    "a[1:-1, 1:-1] = 0\n",
    "print(a)"
   ]
  },
  {
   "cell_type": "markdown",
   "metadata": {},
   "source": [
    "* For an integer $n$, create an array of length $3n$ filled with the cyclic pattern 1, 2, 3.  For example, for $n=2$, the resulting array should be ```[1,2,3,1,2,3]```."
   ]
  },
  {
   "cell_type": "code",
   "execution_count": 35,
   "metadata": {},
   "outputs": [
    {
     "name": "stdout",
     "output_type": "stream",
     "text": [
      "[1 2 3 1 2 3 1 2 3]\n"
     ]
    }
   ],
   "source": [
    "def pattern(n) :\n",
    "    res = np.array([1,2,3])\n",
    "    return np.resize(res, n*3)\n",
    "\n",
    "print(pattern(3))"
   ]
  },
  {
   "cell_type": "markdown",
   "metadata": {},
   "source": [
    "### Slices\n",
    "\n",
    "Describe the effect of each of the following slices of the following two-dimensional array, i.e. matrix:\n",
    "\n",
    "```Python\n",
    "a2d = np.array([[1, 2, 3], [4, 5, 6], [7, 8, 9]])\n",
    "```"
   ]
  },
  {
   "cell_type": "markdown",
   "metadata": {},
   "source": [
    "Slice 1:\n",
    "```Python\n",
    "a2d[0]\n",
    "```"
   ]
  },
  {
   "cell_type": "markdown",
   "metadata": {},
   "source": [
    "*answer:  the first row of the matrix*  \n",
    "\n",
    "This is an example to illustrate what we are looking for."
   ]
  },
  {
   "cell_type": "markdown",
   "metadata": {},
   "source": [
    "Slice 2:\n",
    "```Python\n",
    "a2d[1, :2]\n",
    "```"
   ]
  },
  {
   "cell_type": "markdown",
   "metadata": {},
   "source": [
    "the first two elements in the second column"
   ]
  },
  {
   "cell_type": "markdown",
   "metadata": {},
   "source": [
    "Slice 3:\n",
    "```Python\n",
    "a2d[:, -1]\n",
    "```"
   ]
  },
  {
   "cell_type": "markdown",
   "metadata": {},
   "source": [
    "the third column or the last column"
   ]
  },
  {
   "cell_type": "markdown",
   "metadata": {},
   "source": [
    "Slice 4:\n",
    "```Python\n",
    "a2d[:, 1:]\n",
    "```"
   ]
  },
  {
   "cell_type": "markdown",
   "metadata": {},
   "source": [
    "the second and thrid columns"
   ]
  },
  {
   "cell_type": "markdown",
   "metadata": {},
   "source": [
    "Slice 5:\n",
    "```Python\n",
    "a2d[:,:]\n",
    "```"
   ]
  },
  {
   "cell_type": "markdown",
   "metadata": {},
   "source": [
    "the whole array"
   ]
  },
  {
   "cell_type": "markdown",
   "metadata": {},
   "source": [
    "* Replace all negative elements of the following array with the value 0.  This can be done with a single command! (Hint:  Boolean indexing)."
   ]
  },
  {
   "cell_type": "code",
   "execution_count": 5,
   "metadata": {},
   "outputs": [
    {
     "name": "stdout",
     "output_type": "stream",
     "text": [
      "[0 3 0 0 5 6 0]\n"
     ]
    }
   ],
   "source": [
    "import numpy as np\n",
    "a = np.array([-1, 3, -2, -3, 5, 6, -2])\n",
    "a[a<0] = 0\n",
    "print(a)"
   ]
  },
  {
   "cell_type": "markdown",
   "metadata": {},
   "source": [
    "* Write a command that replaces all NaN values with 0 in the following array.  Use [np.isnan](https://numpy.org/doc/stable/reference/generated/numpy.isnan.html) with Boolean indexing."
   ]
  },
  {
   "cell_type": "code",
   "execution_count": 7,
   "metadata": {},
   "outputs": [
    {
     "name": "stdout",
     "output_type": "stream",
     "text": [
      "[1. 2. 3. 0. 5. 6. 7. 0.]\n"
     ]
    }
   ],
   "source": [
    "a = np.array([1,2,3,np.nan,5,6,7,np.nan])\n",
    "a[np.isnan(a)] = 0\n",
    "print(a)"
   ]
  },
  {
   "cell_type": "markdown",
   "metadata": {},
   "source": [
    "Here's a more challenging exercise that you can solve using slices:\n",
    "\n",
    "* Create a 8x8 matrix that looks like this:\n",
    "\n",
    "```Python\n",
    "[[0 1 0 1 0 1 0 1]                                                      \n",
    " [1 0 1 0 1 0 1 0]                                                      \n",
    " [0 1 0 1 0 1 0 1]                                                      \n",
    " [1 0 1 0 1 0 1 0]                                                      \n",
    " [0 1 0 1 0 1 0 1]                                                      \n",
    " [1 0 1 0 1 0 1 0]                                                      \n",
    " [0 1 0 1 0 1 0 1]                                                      \n",
    " [1 0 1 0 1 0 1 0]]\n",
    "```\n",
    "\n",
    "Hint:  even and odd numbered rows each are filled with the same pattern.\n"
   ]
  },
  {
   "cell_type": "markdown",
   "metadata": {},
   "source": [
    "* Given the two dimensional array bellow, write code to compute the mean value of each column and display the result.  *Do not use for loops!*"
   ]
  },
  {
   "cell_type": "code",
   "execution_count": null,
   "metadata": {},
   "outputs": [],
   "source": [
    "# computing column means of a 2d array:\n",
    "\n",
    "a = np.array([[17.53, 18.55, 18.18, 10.8 , 10.08],\n",
    "       [ 6.64, 15.78, 14.51, 12.4 , 14.6 ],\n",
    "       [14.67,  2.02, 10.34,  3.79,  6.73],\n",
    "       [12.61,  5.4 , 19.07, 13.76, 15.39],\n",
    "       [ 1.82,  7.79,  5.41, 20.  , 18.17],\n",
    "       [10.01,  8.88, 17.27,  1.73, 13.64]])\n",
    "\n",
    "# your code below\n"
   ]
  }
 ],
 "metadata": {
  "kernelspec": {
   "display_name": "Python 3 (ipykernel)",
   "language": "python",
   "name": "python3"
  },
  "language_info": {
   "codemirror_mode": {
    "name": "ipython",
    "version": 3
   },
   "file_extension": ".py",
   "mimetype": "text/x-python",
   "name": "python",
   "nbconvert_exporter": "python",
   "pygments_lexer": "ipython3",
   "version": "3.9.12"
  }
 },
 "nbformat": 4,
 "nbformat_minor": 4
}
